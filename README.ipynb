{
 "cells": [
  {
   "cell_type": "markdown",
   "metadata": {},
   "source": [
    "# `Enum.map`と再帰スタイルの比較、ふたたび\n",
    "\n",
    "「[Elixirで速度を追い求めるときのプログラミングスタイル - Qiita](https://qiita.com/zacky1972/items/5963a8bf5f2a34c67d88#enummap%E3%81%A8%E5%86%8D%E5%B8%B0%E3%82%B9%E3%82%BF%E3%82%A4%E3%83%AB%E3%81%AF%E3%81%BB%E3%81%A8%E3%82%93%E3%81%A9%E5%B7%AE%E3%81%8C%E3%81%AA%E3%81%84)」という記事にある、「`Enum.map`と再帰スタイルは，ほとんど差がない」という検証結果が興味深かったので、自分でもやってみました。興味深かったポイントは、末尾再帰にしたらやっぱり速くなるのではないか？ということです。"
   ]
  },
  {
   "cell_type": "markdown",
   "metadata": {},
   "source": [
    "## ベンチマーク対象のコード\n",
    "\n",
    "### `Enum.map`による実装\n",
    "\n",
    "```elixir\n",
    "Enum.map(@list, & &1 * 2)\n",
    "```\n",
    "\n",
    "### 再帰による実装\n",
    "\n",
    "[lib/recursive.ex](lib/recursive.ex)\n",
    "\n",
    "```elixir\n",
    "defmodule Recursive do\n",
    "  def r_map([], _func), do: []\n",
    "\n",
    "  def r_map([head | tail], func) do\n",
    "    [func.(head) | r_map(tail, func)]\n",
    "  end\n",
    "end\n",
    "\n",
    "Recursive.r_map(@list, & &1 * 2)\n",
    "```\n",
    "\n",
    "ここまでは元記事の通りです。\n",
    "\n",
    "### 末尾再帰による実装\n",
    "\n",
    "[lib/tail_recursive.ex](lib/tail_recursive.ex)\n",
    "\n",
    "```elixir\n",
    "defmodule TailRecursive do\n",
    "  def r_map(list, func) do\n",
    "    r_map_rec(list, func, [])\n",
    "    |> Enum.reverse()\n",
    "  end\n",
    "\n",
    "  defp r_map_rec([], _func, acc), do: acc\n",
    "\n",
    "  defp r_map_rec([head | tail], func, acc) do\n",
    "    r_map_rec(tail, func, [func.(head) | acc])\n",
    "  end\n",
    "end\n",
    "\n",
    "TailRecursive.r_map(@list, & &1 * 2)\n",
    "```\n",
    "\n",
    "こちらが、あらたに追加した実装です。\n",
    "\n",
    "### テストによる実装の確認\n",
    "\n",
    "そもそも実装がちゃんとできているのか、テストしてみます。\n",
    "\n",
    "```elixir\n",
    "defmodule RMapBenchTest do\n",
    "  use ExUnit.Case\n",
    "\n",
    "  setup_all do\n",
    "    %{list: Enum.to_list(1..100)}\n",
    "  end\n",
    "\n",
    "  test \"all functions return same values\", %{list: list} do\n",
    "    l1 = Enum.map(list, &(&1 * 2))\n",
    "    l2 = Recursive.r_map(list, &(&1 * 2))\n",
    "    l3 = TailRecursive.r_map(list, &(&1 * 2))\n",
    "    assert l1 == l2\n",
    "    assert l2 == l3\n",
    "    assert l1 == l3\n",
    "  end\n",
    "end\n",
    "```"
   ]
  },
  {
   "cell_type": "code",
   "execution_count": 1,
   "metadata": {},
   "outputs": [
    {
     "name": "stdout",
     "output_type": "stream",
     "text": [
      "\u001b[32m.\u001b[0m\n",
      "\n",
      "Finished in 0.04 seconds\n",
      "\u001b[32m1 test, 0 failures\u001b[0m\n",
      "\n",
      "Randomized with seed 985632\n"
     ]
    }
   ],
   "source": [
    "!mix test"
   ]
  },
  {
   "cell_type": "markdown",
   "metadata": {},
   "source": [
    "実装はOKなようですね。"
   ]
  },
  {
   "cell_type": "markdown",
   "metadata": {},
   "source": [
    "## ベンチマーク\n",
    "\n",
    "元記事同様、[benchfella](https://github.com/alco/benchfella)を使ってベンチマークします。\n",
    "\n",
    "[bench/r_map_bench.ex](bench/r_map_bench.ex)\n",
    "\n",
    "```elixir\n",
    "defmodule EnumBench do\n",
    "  use Benchfella\n",
    "\n",
    "  @list Enum.to_list(1..1_000_000)\n",
    "\n",
    "  bench \"Enum.map\" do\n",
    "    Enum.map(@list, & &1 * 2)\n",
    "  end\n",
    "\n",
    "  bench \"recursive\" do\n",
    "    Recursive.r_map(@list, & &1 * 2)\n",
    "  end\n",
    "\n",
    "  bench \"tail recursive\" do\n",
    "    TailRecursive.r_map(@list, & &1 * 2)\n",
    "  end\n",
    "end\n",
    "```\n",
    "\n",
    "以下の通り、3回実行してみました（[bench/snapshots](bench/snapshots)に結果が格納されています）。"
   ]
  },
  {
   "cell_type": "markdown",
   "metadata": {},
   "source": [
    "### 1回目"
   ]
  },
  {
   "cell_type": "code",
   "execution_count": 2,
   "metadata": {},
   "outputs": [
    {
     "name": "stdout",
     "output_type": "stream",
     "text": [
      "Settings:\n",
      "  duration:      1.0 s\n",
      "\n",
      "## EnumBench\n",
      "[19:21:17] 1/3: Enum.map\n",
      "[19:21:21] 2/3: recursive\n",
      "[19:21:24] 3/3: tail recursive\n",
      "\n",
      "Finished in 10.31 seconds\n",
      "\n",
      "## EnumBench\n",
      "benchmark name  iterations   average time \n",
      "tail recursive          50   48389.76 µs/op\n",
      "recursive               50   56384.84 µs/op\n",
      "Enum.map                50   58459.10 µs/op\n",
      "\n"
     ]
    }
   ],
   "source": [
    "!mix bench"
   ]
  },
  {
   "cell_type": "markdown",
   "metadata": {},
   "source": [
    "### 2回目"
   ]
  },
  {
   "cell_type": "code",
   "execution_count": 3,
   "metadata": {},
   "outputs": [
    {
     "name": "stdout",
     "output_type": "stream",
     "text": [
      "Settings:\n",
      "  duration:      1.0 s\n",
      "\n",
      "## EnumBench\n",
      "[19:21:51] 1/3: Enum.map\n",
      "[19:21:55] 2/3: recursive\n",
      "[19:21:58] 3/3: tail recursive\n",
      "\n",
      "Finished in 10.32 seconds\n",
      "\n",
      "## EnumBench\n",
      "benchmark name  iterations   average time \n",
      "tail recursive          50   47577.26 µs/op\n",
      "recursive               50   57106.66 µs/op\n",
      "Enum.map                50   57772.08 µs/op\n",
      "\n"
     ]
    }
   ],
   "source": [
    "!mix bench"
   ]
  },
  {
   "cell_type": "markdown",
   "metadata": {},
   "source": [
    "### 3回目"
   ]
  },
  {
   "cell_type": "code",
   "execution_count": 4,
   "metadata": {},
   "outputs": [
    {
     "name": "stdout",
     "output_type": "stream",
     "text": [
      "Settings:\n",
      "  duration:      1.0 s\n",
      "\n",
      "## EnumBench\n",
      "[19:22:26] 1/3: Enum.map\n",
      "[19:22:30] 2/3: recursive\n",
      "[19:22:33] 3/3: tail recursive\n",
      "\n",
      "Finished in 10.35 seconds\n",
      "\n",
      "## EnumBench\n",
      "benchmark name  iterations   average time \n",
      "tail recursive          50   58784.60 µs/op\n",
      "Enum.map                50   70148.52 µs/op\n",
      "recursive               20   71049.85 µs/op\n",
      "\n"
     ]
    }
   ],
   "source": [
    "!mix bench"
   ]
  },
  {
   "cell_type": "markdown",
   "metadata": {},
   "source": [
    "## 結果の考察\n",
    "\n",
    "元記事にある通り、`Enum.map`と再帰とでは、あまり変わりがないように見えます。しかし、末尾再帰による実装では、やや目に見えて速くなっているようにも思われます。このことから、パフォーマンスを追求する際には、`Enum.map`ではなく末尾再帰となる再帰による実装が有効であるといえるようにも思われました。"
   ]
  }
 ],
 "metadata": {
  "kernelspec": {
   "display_name": "Python 3",
   "language": "python",
   "name": "python3"
  },
  "language_info": {
   "codemirror_mode": {
    "name": "ipython",
    "version": 3
   },
   "file_extension": ".py",
   "mimetype": "text/x-python",
   "name": "python",
   "nbconvert_exporter": "python",
   "pygments_lexer": "ipython3",
   "version": "3.8.1"
  }
 },
 "nbformat": 4,
 "nbformat_minor": 4
}

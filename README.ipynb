{
 "metadata": {
  "language_info": {
   "codemirror_mode": {
    "name": "ipython",
    "version": 3
   },
   "file_extension": ".py",
   "mimetype": "text/x-python",
   "name": "python",
   "nbconvert_exporter": "python",
   "pygments_lexer": "ipython3",
   "version": 3
  },
  "orig_nbformat": 2
 },
 "nbformat": 4,
 "nbformat_minor": 2,
 "cells": [
  {
   "source": [
    "# `Enum.map`と再帰スタイルの比較、ふたたび\n",
    "\n",
    "「[Elixirで速度を追い求めるときのプログラミングスタイル - Qiita](https://qiita.com/zacky1972/items/5963a8bf5f2a34c67d88#enummap%E3%81%A8%E5%86%8D%E5%B8%B0%E3%82%B9%E3%82%BF%E3%82%A4%E3%83%AB%E3%81%AF%E3%81%BB%E3%81%A8%E3%82%93%E3%81%A9%E5%B7%AE%E3%81%8C%E3%81%AA%E3%81%84)」という記事にある、「`Enum.map`と再帰スタイルは，ほとんど差がない」という検証結果が興味深かったので、自分でもやってみました。"
   ],
   "cell_type": "markdown",
   "metadata": {}
  },
  {
   "cell_type": "code",
   "execution_count": null,
   "metadata": {},
   "outputs": [],
   "source": []
  }
 ]
}